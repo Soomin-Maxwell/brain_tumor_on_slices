{
  "nbformat": 4,
  "nbformat_minor": 0,
  "metadata": {
    "colab": {
      "name": "mrxs2tiff.ipynb",
      "provenance": [],
      "authorship_tag": "ABX9TyP54FsIxjIuYYAZLeMhyzcV",
      "include_colab_link": true
    },
    "kernelspec": {
      "name": "python3",
      "display_name": "Python 3"
    },
    "language_info": {
      "name": "python"
    }
  },
  "cells": [
    {
      "cell_type": "markdown",
      "metadata": {
        "id": "view-in-github",
        "colab_type": "text"
      },
      "source": [
        "<a href=\"https://colab.research.google.com/github/hihunjin/brain_tumor_on_slices/blob/main/mrxs2tiff.ipynb\" target=\"_parent\"><img src=\"https://colab.research.google.com/assets/colab-badge.svg\" alt=\"Open In Colab\"/></a>"
      ]
    },
    {
      "cell_type": "code",
      "metadata": {
        "colab": {
          "base_uri": "https://localhost:8080/"
        },
        "id": "lRtAmF1PqcSc",
        "outputId": "3e841151-16e4-49bd-8887-9bd7f79f020f"
      },
      "source": [
        "from google.colab import drive\n",
        "drive.mount('/content/gdrive')"
      ],
      "execution_count": 1,
      "outputs": [
        {
          "output_type": "stream",
          "text": [
            "Mounted at /content/gdrive\n"
          ],
          "name": "stdout"
        }
      ]
    },
    {
      "cell_type": "code",
      "metadata": {
        "id": "BDNOSJkUqmEL"
      },
      "source": [
        "import os\n",
        "import pandas as pd"
      ],
      "execution_count": 14,
      "outputs": []
    },
    {
      "cell_type": "code",
      "metadata": {
        "colab": {
          "base_uri": "https://localhost:8080/",
          "height": 408
        },
        "id": "cIGz3k1DrymW",
        "outputId": "588370cc-2ee2-4b4a-ccb8-182d853d5a7c"
      },
      "source": [
        "folder_df = pd.DataFrame()\n",
        "folder_df['all'] = os.listdir(\"/content/gdrive/MyDrive/Brain_scan_image_3DHISTECH\")\n",
        "folder_df"
      ],
      "execution_count": 15,
      "outputs": [
        {
          "output_type": "execute_result",
          "data": {
            "text/html": [
              "<div>\n",
              "<style scoped>\n",
              "    .dataframe tbody tr th:only-of-type {\n",
              "        vertical-align: middle;\n",
              "    }\n",
              "\n",
              "    .dataframe tbody tr th {\n",
              "        vertical-align: top;\n",
              "    }\n",
              "\n",
              "    .dataframe thead th {\n",
              "        text-align: right;\n",
              "    }\n",
              "</style>\n",
              "<table border=\"1\" class=\"dataframe\">\n",
              "  <thead>\n",
              "    <tr style=\"text-align: right;\">\n",
              "      <th></th>\n",
              "      <th>all</th>\n",
              "    </tr>\n",
              "  </thead>\n",
              "  <tbody>\n",
              "    <tr>\n",
              "      <th>0</th>\n",
              "      <td>S15-12150.mrxs</td>\n",
              "    </tr>\n",
              "    <tr>\n",
              "      <th>1</th>\n",
              "      <td>S15-12185.mrxs</td>\n",
              "    </tr>\n",
              "    <tr>\n",
              "      <th>2</th>\n",
              "      <td>S15-36571.mrxs</td>\n",
              "    </tr>\n",
              "    <tr>\n",
              "      <th>3</th>\n",
              "      <td>S15-38426.mrxs</td>\n",
              "    </tr>\n",
              "    <tr>\n",
              "      <th>4</th>\n",
              "      <td>S15-38696.mrxs</td>\n",
              "    </tr>\n",
              "    <tr>\n",
              "      <th>...</th>\n",
              "      <td>...</td>\n",
              "    </tr>\n",
              "    <tr>\n",
              "      <th>309</th>\n",
              "      <td>S19-61926</td>\n",
              "    </tr>\n",
              "    <tr>\n",
              "      <th>310</th>\n",
              "      <td>S19-69638</td>\n",
              "    </tr>\n",
              "    <tr>\n",
              "      <th>311</th>\n",
              "      <td>S19-57139</td>\n",
              "    </tr>\n",
              "    <tr>\n",
              "      <th>312</th>\n",
              "      <td>S19-65572</td>\n",
              "    </tr>\n",
              "    <tr>\n",
              "      <th>313</th>\n",
              "      <td>S19-60008</td>\n",
              "    </tr>\n",
              "  </tbody>\n",
              "</table>\n",
              "<p>314 rows × 1 columns</p>\n",
              "</div>"
            ],
            "text/plain": [
              "                all\n",
              "0    S15-12150.mrxs\n",
              "1    S15-12185.mrxs\n",
              "2    S15-36571.mrxs\n",
              "3    S15-38426.mrxs\n",
              "4    S15-38696.mrxs\n",
              "..              ...\n",
              "309       S19-61926\n",
              "310       S19-69638\n",
              "311       S19-57139\n",
              "312       S19-65572\n",
              "313       S19-60008\n",
              "\n",
              "[314 rows x 1 columns]"
            ]
          },
          "metadata": {
            "tags": []
          },
          "execution_count": 15
        }
      ]
    },
    {
      "cell_type": "code",
      "metadata": {
        "colab": {
          "base_uri": "https://localhost:8080/"
        },
        "id": "ttIZkwycsQhR",
        "outputId": "7932fa1a-00dc-4cdc-d1bd-ef6832ddda5f"
      },
      "source": [
        "df = pd.DataFrame()\n",
        "df = folder_df[folder_df['all'].str.endswith('mrxs')]\n",
        "li = df['all'].tolist()\n",
        "len(li)"
      ],
      "execution_count": 36,
      "outputs": [
        {
          "output_type": "execute_result",
          "data": {
            "text/plain": [
              "158"
            ]
          },
          "metadata": {
            "tags": []
          },
          "execution_count": 36
        }
      ]
    },
    {
      "cell_type": "code",
      "metadata": {
        "colab": {
          "base_uri": "https://localhost:8080/"
        },
        "id": "2SsEzweltIsv",
        "outputId": "fae30e8f-790f-4085-bd94-3dc4a80e78ce"
      },
      "source": [
        "df2 = pd.DataFrame()\n",
        "df2 = folder_df[~folder_df['all'].str.endswith('mrxs')]\n",
        "li2 = df2['all'].tolist()\n",
        "len(li2)"
      ],
      "execution_count": 37,
      "outputs": [
        {
          "output_type": "execute_result",
          "data": {
            "text/plain": [
              "156"
            ]
          },
          "metadata": {
            "tags": []
          },
          "execution_count": 37
        }
      ]
    },
    {
      "cell_type": "code",
      "metadata": {
        "colab": {
          "base_uri": "https://localhost:8080/"
        },
        "id": "3zsAl3AVvHc1",
        "outputId": "7e6f111b-1d8a-44f1-d6b6-026975b75934"
      },
      "source": [
        "for i in li:\n",
        "    if i.split('.')[0] not in li2:\n",
        "        print(i)"
      ],
      "execution_count": 35,
      "outputs": [
        {
          "output_type": "stream",
          "text": [
            "S17-46694.mrxs\n",
            "S18-10073.mrxs\n"
          ],
          "name": "stdout"
        }
      ]
    },
    {
      "cell_type": "code",
      "metadata": {
        "id": "boCIU-AqvsHz"
      },
      "source": [
        "!pip install -U openslide-python\n",
        "# !pip uninstall numpy;pip install numpy\n",
        "!apt-get update -y\n",
        "!apt install libvips-dev -y\n",
        "!pip install gdcm"
      ],
      "execution_count": null,
      "outputs": []
    },
    {
      "cell_type": "markdown",
      "metadata": {
        "id": "WvF0kfcF1m7Y"
      },
      "source": [
        "# mrxs -> tiff\n",
        "\n",
        "* 약 1분~20분 시간 걸림"
      ]
    },
    {
      "cell_type": "code",
      "metadata": {
        "id": "LWg-vMrzxGWZ"
      },
      "source": [
        "!vips openslideload /content/gdrive/MyDrive/Brain_scan_image_3DHISTECH/S15-42459.mrxs S15-42459.tiff --autocrop=true"
      ],
      "execution_count": null,
      "outputs": []
    },
    {
      "cell_type": "code",
      "metadata": {
        "id": "1vbYRmDuxGUa"
      },
      "source": [
        "!vips openslideload /content/gdrive/MyDrive/Brain_scan_image_3DHISTECH/S15-42459.mrxs /content/gdrive/MyDrive/Brain_scan_image_3DHISTECH/S15-42459.tiff[tile,compression=lzw,bigtiff] --autocrop=true"
      ],
      "execution_count": null,
      "outputs": []
    },
    {
      "cell_type": "markdown",
      "metadata": {
        "id": "vGsJ_TPz2J91"
      },
      "source": [
        "# Tiff visualization"
      ]
    },
    {
      "cell_type": "code",
      "metadata": {
        "id": "SpN70rusxGR8"
      },
      "source": [
        "import numpy as np\n",
        "import matplotlib.pyplot as plt\n",
        "from osgeo import gdal"
      ],
      "execution_count": 46,
      "outputs": []
    },
    {
      "cell_type": "code",
      "metadata": {
        "id": "Op2Tfk-1xGPG"
      },
      "source": [
        "gdal.UseExceptions()\n",
        "\n",
        "ds = gdal.Open(\"/content/gdrive/MyDrive/Brain_scan_image_3DHISTECH/S15-42459.tiff\")"
      ],
      "execution_count": 48,
      "outputs": []
    },
    {
      "cell_type": "code",
      "metadata": {
        "colab": {
          "base_uri": "https://localhost:8080/"
        },
        "id": "dDqMgRaWxGNH",
        "outputId": "73a2ea5c-024e-4223-b0e0-259efa762fd2"
      },
      "source": [
        "print(f\"Driver: {ds.GetDriver().ShortName}/{ds.GetDriver().LongName}\")\n",
        "print(f\"Size is {ds.RasterXSize} x {ds.RasterYSize} x {ds.RasterCount}\")\n",
        "print(f\"Projection is {ds.GetProjection()}\")\n",
        "print('number of band : {}'.format(ds.RasterCount))"
      ],
      "execution_count": 49,
      "outputs": [
        {
          "output_type": "stream",
          "text": [
            "Driver: GTiff/GeoTIFF\n",
            "Size is 85907 x 205013 x 4\n",
            "Projection is \n",
            "number of band : 4\n"
          ],
          "name": "stdout"
        }
      ]
    },
    {
      "cell_type": "code",
      "metadata": {
        "id": "qB92DdZi2TKi"
      },
      "source": [
        "band = ds.GetRasterBand(1)\n",
        "irrad = band.ReadAsArray()\n",
        "# nrows, ncols = irrad.shape\n",
        "# print(nrows, ncols)\n",
        "# print(irrad.min(),irrad.max())"
      ],
      "execution_count": null,
      "outputs": []
    },
    {
      "cell_type": "code",
      "metadata": {
        "id": "NqRTP1Lk2hkO"
      },
      "source": [
        "fig, ax = plt.subplots(figsize=(20, 20))\n",
        "a=3000\n",
        "b=7000\n",
        "# ax.imshow(irrad[130000:140000,30000:40000], cmap=\"gray\")\n",
        "# 130000:140000,30000:40000\n",
        "ax.imshow(irrad, cmap=\"gray\")\n",
        "ax.set_aspect(\"equal\", \"box\")\n",
        "plt.show()\n"
      ],
      "execution_count": null,
      "outputs": []
    },
    {
      "cell_type": "code",
      "metadata": {
        "id": "ucyep5R_2kBP"
      },
      "source": [
        ""
      ],
      "execution_count": null,
      "outputs": []
    }
  ]
}